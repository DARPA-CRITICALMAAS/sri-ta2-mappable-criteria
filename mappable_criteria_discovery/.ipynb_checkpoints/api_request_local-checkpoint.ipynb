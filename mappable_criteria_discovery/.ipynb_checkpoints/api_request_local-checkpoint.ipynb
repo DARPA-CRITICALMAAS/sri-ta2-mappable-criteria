{
 "cells": [
  {
   "cell_type": "code",
   "execution_count": 1,
   "metadata": {},
   "outputs": [
    {
     "name": "stderr",
     "output_type": "stream",
     "text": [
      "/data/meng/anaconda3/envs/fomma3.9/lib/python3.9/site-packages/tqdm/auto.py:21: TqdmWarning: IProgress not found. Please update jupyter and ipywidgets. See https://ipywidgets.readthedocs.io/en/stable/user_install.html\n",
      "  from .autonotebook import tqdm as notebook_tqdm\n"
     ]
    }
   ],
   "source": [
    "# imports\n",
    "import argparse  # for running script from command line\n",
    "import json  # for saving results to a jsonl file\n",
    "import logging  # for logging rate limit warnings and other messages\n",
    "import os  # for reading API key\n",
    "import re  # for matching endpoint from request URL\n",
    "import tiktoken  # for counting tokens\n",
    "import time  # for sleeping after rate limit is hit\n",
    "from dataclasses import (\n",
    "    dataclass,\n",
    "    field,\n",
    ")  # for storing API inputs, outputs, and metadata\n",
    "\n",
    "from transformers import AutoTokenizer, AutoModelForCausalLM"
   ]
  },
  {
   "cell_type": "code",
   "execution_count": 4,
   "metadata": {},
   "outputs": [],
   "source": [
    "requests_filepath = 'logs_debug_MVT_local/mineral_system/prompts/SIR10-5070A.jsonl'\n",
    "with open(requests_filepath, 'r') as f:\n",
    "    requests = [json.loads(l) for l in f.readlines()]"
   ]
  },
  {
   "cell_type": "code",
   "execution_count": 5,
   "metadata": {},
   "outputs": [
    {
     "data": {
      "text/plain": [
       "{'model': 'vicuna-7b-v1.5-16k',\n",
       " 'messages': [{'role': 'system', 'content': 'You are an expert geologist.'},\n",
       "  {'role': 'user',\n",
       "   'content': \"For a region to be prospective for mineral deposits now, it must necessarily show evidence for all the critical ingredients required for the formation and preservation of those deposits:\\n1. source: source(s) of ore components, transporting fluids, and energy to drive the system\\n2. pathway: conduit(s) along which metals and fluids were transported from source to sink\\n3. trap: physical and/or chemical mechanism(s) that deposited ore components at the sink\\n4. preservation: processes permitting preservation of mineralization in the crust up to the present time\\n\\nHere is a paragraph from an academic paper:\\nU.S. Department of the Interior U.S. Geological Survey Scientific Investigations Report 2010–5070–A A Deposit Model for Mississippi Valley-Type Lead-Zinc Ores  2 cm Sample of spheroidal sphalerite with dendritic sphalerite, galena, and iron sulfides (pyrite plus marcasite)  from the Pomorzany mine.  Note the “up direction” is indicated by “snow-on-the-roof” texture of galena and  sphalerite alnong colloform layers of light-colored spahlerite.  Hydrothermal sulfide clasts in the left center  of the sample are encrusted by sphalerire and iron sulfides.  Size of sample is 20x13 cm.  Photo by David  Leach. Chapter A of Mineral Deposit Models for Resource Assessment\\n\\nIs this paragraph talking about any of the mineral system components? If not, simply answer with 'no', otherwise, choose one out of the four options below:\\nA. source\\nB. pathway\\nC. trap\\nD. preservation\\n\\nYour answer: \\n\"}],\n",
       " 'temperature': 0,\n",
       " 'metadata': {'node_id': 'SIR10-5070A-0-0'}}"
      ]
     },
     "execution_count": 5,
     "metadata": {},
     "output_type": "execute_result"
    }
   ],
   "source": [
    "requests[0]"
   ]
  },
  {
   "cell_type": "code",
   "execution_count": null,
   "metadata": {},
   "outputs": [],
   "source": [
    "model_path = ''"
   ]
  },
  {
   "cell_type": "code",
   "execution_count": 6,
   "metadata": {},
   "outputs": [
    {
     "name": "stdout",
     "output_type": "stream",
     "text": [
      "2021_Table01_Datasets.csv\t     logs_debug_\n",
      "api_request_local.ipynb\t\t     logs_debug_MVT\n",
      "api_request_local.py\t\t     logs_debug_MVT_local\n",
      "api_request_parallel_processor.py    logs_tungsten_skarn\n",
      "base_config.yaml\t\t     main.py\n",
      "data\t\t\t\t     map_layers_list.py\n",
      "data_tungsten_skarn\t\t     openai_curl_example.sh\n",
      "generate_prompts_aggregation_ppl.py  output_schema.py\n",
      "generate_prompts_aggregation.py      README.md\n",
      "generate_prompts_mappable.py\t     roc_curve.png\n",
      "generate_prompts_mineral.py\t     run_completion.py\n",
      "lawly_MVT_var.json\t\t     temp_layer_level.txt\n",
      "list_map_layers.py\t\t     temp.txt\n",
      "list_predictions.py\t\t     text_extraction.py\n",
      "logs\t\t\t\t     vis.png\n",
      "logs_debug\n"
     ]
    }
   ],
   "source": [
    "!ls"
   ]
  },
  {
   "cell_type": "code",
   "execution_count": 7,
   "metadata": {},
   "outputs": [
    {
     "name": "stdout",
     "output_type": "stream",
     "text": [
      "Wed Feb  7 10:24:27 2024       \n",
      "+---------------------------------------------------------------------------------------+\n",
      "| NVIDIA-SMI 545.23.08              Driver Version: 545.23.08    CUDA Version: 12.3     |\n",
      "|-----------------------------------------+----------------------+----------------------+\n",
      "| GPU  Name                 Persistence-M | Bus-Id        Disp.A | Volatile Uncorr. ECC |\n",
      "| Fan  Temp   Perf          Pwr:Usage/Cap |         Memory-Usage | GPU-Util  Compute M. |\n",
      "|                                         |                      |               MIG M. |\n",
      "|=========================================+======================+======================|\n",
      "|   0  NVIDIA GeForce RTX 2080 Ti     On  | 00000000:18:00.0 Off |                  N/A |\n",
      "| 22%   25C    P8               1W / 250W |    316MiB / 11264MiB |      0%      Default |\n",
      "|                                         |                      |                  N/A |\n",
      "+-----------------------------------------+----------------------+----------------------+\n",
      "|   1  NVIDIA GeForce RTX 2080 Ti     On  | 00000000:3B:00.0 Off |                  N/A |\n",
      "| 30%   26C    P8              14W / 250W |    316MiB / 11264MiB |      0%      Default |\n",
      "|                                         |                      |                  N/A |\n",
      "+-----------------------------------------+----------------------+----------------------+\n",
      "|   2  NVIDIA GeForce RTX 2080 Ti     On  | 00000000:86:00.0 Off |                  N/A |\n",
      "| 30%   26C    P8               8W / 250W |    314MiB / 11264MiB |      0%      Default |\n",
      "|                                         |                      |                  N/A |\n",
      "+-----------------------------------------+----------------------+----------------------+\n",
      "|   3  NVIDIA TITAN RTX               On  | 00000000:AF:00.0 Off |                  N/A |\n",
      "| 41%   27C    P8              15W / 280W |    325MiB / 24576MiB |      0%      Default |\n",
      "|                                         |                      |                  N/A |\n",
      "+-----------------------------------------+----------------------+----------------------+\n",
      "                                                                                         \n",
      "+---------------------------------------------------------------------------------------+\n",
      "| Processes:                                                                            |\n",
      "|  GPU   GI   CI        PID   Type   Process name                            GPU Memory |\n",
      "|        ID   ID                                                             Usage      |\n",
      "|=======================================================================================|\n",
      "|    0   N/A  N/A      1633      G   /usr/lib/xorg/Xorg                            4MiB |\n",
      "|    0   N/A  N/A   2591884      C   /usr/local/bin/ollama                       306MiB |\n",
      "|    1   N/A  N/A      1633      G   /usr/lib/xorg/Xorg                            4MiB |\n",
      "|    1   N/A  N/A   2591884      C   /usr/local/bin/ollama                       306MiB |\n",
      "|    2   N/A  N/A      1633      G   /usr/lib/xorg/Xorg                            4MiB |\n",
      "|    2   N/A  N/A   2591884      C   /usr/local/bin/ollama                       306MiB |\n",
      "|    3   N/A  N/A      1633      G   /usr/lib/xorg/Xorg                            4MiB |\n",
      "|    3   N/A  N/A   2591884      C   /usr/local/bin/ollama                       312MiB |\n",
      "+---------------------------------------------------------------------------------------+\n"
     ]
    }
   ],
   "source": [
    "!nvidia-smi"
   ]
  },
  {
   "cell_type": "code",
   "execution_count": null,
   "metadata": {},
   "outputs": [],
   "source": []
  }
 ],
 "metadata": {
  "kernelspec": {
   "display_name": "fomma3.9",
   "language": "python",
   "name": "python3"
  },
  "language_info": {
   "codemirror_mode": {
    "name": "ipython",
    "version": 3
   },
   "file_extension": ".py",
   "mimetype": "text/x-python",
   "name": "python",
   "nbconvert_exporter": "python",
   "pygments_lexer": "ipython3",
   "version": "3.9.18"
  }
 },
 "nbformat": 4,
 "nbformat_minor": 2
}
